{
 "cells": [
  {
   "cell_type": "markdown",
   "id": "94d24fc3",
   "metadata": {},
   "source": [
    "#  <span style=\"text-align=center; color:DarkMagenta; font-family:Georgia; font-size:1.2em;\"> **_M2 - TP EIAH - MAY_** </span>"
   ]
  },
  {
   "cell_type": "markdown",
   "id": "2ec5fefc",
   "metadata": {},
   "source": [
    "Eliot Lepoittevin & Benjamin Riviere"
   ]
  },
  {
   "cell_type": "markdown",
   "id": "0cb57ac8",
   "metadata": {},
   "source": [
    "# <span style=\"color:brown; font-family:times; font-size:1.3em;\">Code</span>"
   ]
  },
  {
   "cell_type": "code",
   "execution_count": 1,
   "id": "7ce2279b",
   "metadata": {},
   "outputs": [],
   "source": [
    "import pandas as pd\n",
    "import numpy as np\n",
    "import matplotlib.pyplot as plt\n",
    "\n",
    "#load de data from the csv files\n",
    "df_tr = pd.read_csv ('csv_dump/transition.csv')\n",
    "\n",
    "\n",
    "def LoadPerUserData(dataframe,userNamePos):\n",
    "    userData = {}\n",
    "    data = dataframe.values\n",
    "    \n",
    "    for i in range(len(data)):\n",
    "        username = data[i][userNamePos]\n",
    "        \n",
    "        if(userData.get(username) == None):\n",
    "            userData[username] = []\n",
    "        userData[username].append(data[i])\n",
    "\n",
    "    return userData\n",
    "\n",
    "#group the data per user\n",
    "userData_tr = LoadPerUserData(df_tr,1)\n",
    "# print(str(userData_tr[\"mmay\"]))"
   ]
  },
  {
   "cell_type": "code",
   "execution_count": 2,
   "id": "465bbceb",
   "metadata": {},
   "outputs": [],
   "source": [
    "def GetReactivityIndicator(userData_tr):\n",
    "    indicator = {}\n",
    "    \n",
    "    totalResponseTime = 0\n",
    "    totalMessage = 0\n",
    "    for d in userData_tr:\n",
    "        totalResponseTime+=1\n",
    "        totalMessage+=1\n",
    "         \n",
    "    indicator['averageResponseTime']=totalResponseTime/totalMessage\n",
    "    indicator['test']=3\n",
    "    \n",
    "    return indicator\n",
    "\n",
    "\n",
    "def GetMotivationIndicator(userData_tr):\n",
    "    indicator = {}\n",
    "    \n",
    "    totalResponseTime = 0\n",
    "    totalMessage = 0\n",
    "    for d in userData_tr:\n",
    "        totalResponseTime+=1\n",
    "        totalMessage+=1\n",
    "         \n",
    "    indicator['averageResponseTime']=totalResponseTime/totalMessage\n",
    "    indicator['test']=3\n",
    "    \n",
    "    return indicator\n",
    "\n",
    "\n",
    "def GenerateUsersIndicators():\n",
    "    usersIndicators = {}\n",
    "    \n",
    "    for userData in userData_tr:\n",
    "        \n",
    "        indicators = {}\n",
    "        indicators['Reactivity']=GetReactivityIndicator(userData)\n",
    "        indicators['Motivation']=GetMotivationIndicator(userData)\n",
    "        \n",
    "        usersIndicators[userData[0]]=indicators\n",
    "    \n",
    "    return usersIndicators"
   ]
  },
  {
   "cell_type": "code",
   "execution_count": 3,
   "id": "c2d9bf40",
   "metadata": {},
   "outputs": [],
   "source": [
    "usersIndicators = GenerateUsersIndicators()\n",
    "#print(usersIndicators)"
   ]
  },
  {
   "cell_type": "code",
   "execution_count": 4,
   "id": "4db37b2c",
   "metadata": {},
   "outputs": [
    {
     "ename": "KeyError",
     "evalue": "'tdelille'",
     "output_type": "error",
     "traceback": [
      "\u001b[0;31m---------------------------------------------------------------------------\u001b[0m",
      "\u001b[0;31mKeyError\u001b[0m                                  Traceback (most recent call last)",
      "\u001b[0;32m<ipython-input-4-0b93b09e9c7f>\u001b[0m in \u001b[0;36m<module>\u001b[0;34m\u001b[0m\n\u001b[1;32m     26\u001b[0m \u001b[0;34m\u001b[0m\u001b[0m\n\u001b[1;32m     27\u001b[0m \u001b[0;34m\u001b[0m\u001b[0m\n\u001b[0;32m---> 28\u001b[0;31m \u001b[0mdisplayIndicator\u001b[0m\u001b[0;34m(\u001b[0m\u001b[0musersIndicators\u001b[0m\u001b[0;34m[\u001b[0m\u001b[0;34m'tdelille'\u001b[0m\u001b[0;34m]\u001b[0m\u001b[0;34m[\u001b[0m\u001b[0;34m'Reactivity'\u001b[0m\u001b[0;34m]\u001b[0m\u001b[0;34m,\u001b[0m\u001b[0;34m'Reactivity'\u001b[0m\u001b[0;34m)\u001b[0m\u001b[0;34m\u001b[0m\u001b[0;34m\u001b[0m\u001b[0m\n\u001b[0m\u001b[1;32m     29\u001b[0m \u001b[0mdisplayIndicator\u001b[0m\u001b[0;34m(\u001b[0m\u001b[0musersIndicators\u001b[0m\u001b[0;34m[\u001b[0m\u001b[0;34m'tdelille'\u001b[0m\u001b[0;34m]\u001b[0m\u001b[0;34m[\u001b[0m\u001b[0;34m'Motivation'\u001b[0m\u001b[0;34m]\u001b[0m\u001b[0;34m,\u001b[0m\u001b[0;34m'Motivation'\u001b[0m\u001b[0;34m)\u001b[0m\u001b[0;34m\u001b[0m\u001b[0;34m\u001b[0m\u001b[0m\n",
      "\u001b[0;31mKeyError\u001b[0m: 'tdelille'"
     ]
    }
   ],
   "source": [
    "#display specified indicator for specified user\n",
    "def displayIndicator(indicator,indicatorName):\n",
    "    #title\n",
    "    plt.title(indicatorName)\n",
    "    #labels\n",
    "    activities = indicator.keys()\n",
    "    #values\n",
    "    slices = indicator.values()\n",
    "    \n",
    "    def make_autopct(values):\n",
    "        def my_autopct(pct):\n",
    "            total = sum(values)\n",
    "            val = int(round(pct*total/100.0))\n",
    "            return '{p:.2f}%  ({v:d})'.format(p=pct,v=val)\n",
    "        return my_autopct\n",
    "    \n",
    "    # plotting the pie chart\n",
    "    plt.pie(slices, labels = activities,\n",
    "            startangle=90, shadow = True,\n",
    "            radius = 1.2, autopct=make_autopct(slices))\n",
    "    # plotting legend\n",
    "    plt.legend()\n",
    "    # showing the plot\n",
    "    plt.show()\n",
    "    \n",
    "     \n",
    "        \n",
    "displayIndicator(usersIndicators['tdelille']['Reactivity'],'Reactivity')\n",
    "displayIndicator(usersIndicators['tdelille']['Motivation'],'Motivation')"
   ]
  },
  {
   "cell_type": "code",
   "execution_count": null,
   "id": "16b55d28",
   "metadata": {},
   "outputs": [],
   "source": []
  },
  {
   "cell_type": "code",
   "execution_count": null,
   "id": "8790e94f",
   "metadata": {},
   "outputs": [],
   "source": []
  },
  {
   "cell_type": "code",
   "execution_count": null,
   "id": "2b1e9492",
   "metadata": {},
   "outputs": [],
   "source": []
  },
  {
   "cell_type": "markdown",
   "id": "3a36a654",
   "metadata": {},
   "source": [
    "# <span style=\"color:brown; font-family:times; font-size:1.3em;\">Résultats</span>"
   ]
  },
  {
   "cell_type": "code",
   "execution_count": null,
   "id": "83b29688",
   "metadata": {},
   "outputs": [],
   "source": []
  },
  {
   "cell_type": "markdown",
   "id": "c9e58e69",
   "metadata": {},
   "source": [
    "### <span style=\"color:green; font-family:Georgia; font-size:1.5em;\">END</span>"
   ]
  },
  {
   "cell_type": "code",
   "execution_count": null,
   "id": "37257837",
   "metadata": {},
   "outputs": [],
   "source": [
    "#Eliot Lepoittevin\n",
    "#Benjamin Riviere"
   ]
  }
 ],
 "metadata": {
  "kernelspec": {
   "display_name": "Python 3",
   "language": "python",
   "name": "python3"
  },
  "language_info": {
   "codemirror_mode": {
    "name": "ipython",
    "version": 3
   },
   "file_extension": ".py",
   "mimetype": "text/x-python",
   "name": "python",
   "nbconvert_exporter": "python",
   "pygments_lexer": "ipython3",
   "version": "3.8.10"
  }
 },
 "nbformat": 4,
 "nbformat_minor": 5
}
