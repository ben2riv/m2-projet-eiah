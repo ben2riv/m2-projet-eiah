{
 "cells": [
  {
   "cell_type": "markdown",
   "id": "continuous-spokesman",
   "metadata": {},
   "source": [
    "#  <span style=\"text-align=center; color:DarkMagenta; font-family:Georgia; font-size:1.2em;\"> **_M2 - TP EIAH - MAY_** </span>"
   ]
  },
  {
   "cell_type": "markdown",
   "id": "sophisticated-thomson",
   "metadata": {},
   "source": [
    "Eliot Lepoittevin & Benjamin Riviere"
   ]
  },
  {
   "cell_type": "markdown",
   "id": "adult-mixer",
   "metadata": {},
   "source": [
    "# <span style=\"color:brown; font-family:times; font-size:1.3em;\">Code</span>"
   ]
  },
  {
   "cell_type": "code",
   "execution_count": 1,
   "id": "vertical-italy",
   "metadata": {},
   "outputs": [],
   "source": [
    "import pandas as pd\n",
    "import numpy as np\n",
    "import matplotlib.pyplot as plt\n",
    "import datetime\n",
    "import math\n",
    "\n",
    "#given a panda dataframe & the column id of the usernames, retrieve the data sorted by user\n",
    "def LoadPerUserData(dataframe,userNamePos):\n",
    "    userData = {}\n",
    "    data = dataframe.values\n",
    "    \n",
    "    for i in range(len(data)):\n",
    "        username = data[i][userNamePos]\n",
    "        \n",
    "        if(userData.get(username) == None):\n",
    "            userData[username] = []\n",
    "        userData[username].append(data[i])\n",
    "\n",
    "    return userData\n"
   ]
  },
  {
   "cell_type": "code",
   "execution_count": 2,
   "id": "ecological-boston",
   "metadata": {},
   "outputs": [],
   "source": [
    "'''\n",
    "INDICATORS\n",
    "\n",
    "#create an indicator (which is dictionarry of différents usefull values retrieve or calculated from the data)\n",
    "#the data are all the informations we have about a same user\n",
    "def indicatorName(data):\n",
    "    return indicator\n",
    "'''\n",
    "\n",
    "def GetReactivityIndicator(userData):\n",
    "    \n",
    "    totalDelayTime = 0\n",
    "    totalMessage = 1\n",
    "    #print(userData)\n",
    "#     for d in userData:\n",
    "        \n",
    "#         totalDelayTime+= float(d[6])\n",
    "#         totalMessage+=1\n",
    "    \n",
    "    #input in the indicator dictionary the values and names to display for those values\n",
    "    indicator = {}\n",
    "    indicator['DelayForWritingMessages']=totalDelayTime/totalMessage\n",
    "    indicator['test']=3\n",
    "    \n",
    "    return indicator\n",
    "\n",
    "def GetMotivationIndicator(userData):\n",
    "    \n",
    "    nb_connexions = 0 \n",
    "    active_actions = 0\n",
    "    passive_actions = 0        \n",
    "    delai_connexions = []\n",
    "    \n",
    "    for i in range(0, len(userData)):\n",
    "            \n",
    "        if userData[i][2] == \"Connexion\": nb_connexions+=1\n",
    "        elif \"Répondre\" in userData[i][2] : active_actions+=1\n",
    "        elif \"Poster\" in userData[i][2] : active_actions+=1\n",
    "        else : passive_actions+=1\n",
    "            \n",
    "#         if not math.isnan(userData[i][6]): \n",
    "#             print(userData[i][6])\n",
    "#             delai_connexions.append(datetime.datetime.strptime(userData[i][6], '%H:%M:%S'))\n",
    "            \n",
    "    #input in the indicator dictionary the values and names to display for those values\n",
    "    indicator = {}\n",
    "    indicator['averageResponseTime']=0\n",
    "    \n",
    "    return indicator"
   ]
  },
  {
   "cell_type": "code",
   "execution_count": 3,
   "id": "quantitative-essex",
   "metadata": {},
   "outputs": [],
   "source": [
    "#generate the indocators dictionary for each user\n",
    "#new indicators can be easily used by adding a new indicator key and call the indicator function created\n",
    "def GenerateUsersIndicators(userData_tr):\n",
    "    usersIndicators = {}\n",
    "\n",
    "    for user in userData_tr:\n",
    "        data = userData_tr[user]\n",
    "        \n",
    "        indicators = {}\n",
    "        \n",
    "        #indicator's) to generate\n",
    "        indicators['Reactivity']=GetReactivityIndicator(data)\n",
    "        indicators['Motivation']=GetMotivationIndicator(data)\n",
    "        \n",
    "        usersIndicators[user]=indicators\n",
    "        \n",
    "    return usersIndicators"
   ]
  },
  {
   "cell_type": "code",
   "execution_count": 4,
   "id": "humanitarian-arrest",
   "metadata": {},
   "outputs": [],
   "source": [
    "#display specified indicator for specified user(indicators are all the indicators generated for all users)\n",
    "def displayIndicator(usersIndicators,indicatorName,userName):\n",
    "    indicator = usersIndicators[userName][indicatorName]\n",
    "    \n",
    "    #title\n",
    "    plt.title(indicatorName + \" for the user \"+userName)\n",
    "    #labels\n",
    "    activities = indicator.keys()\n",
    "    #values\n",
    "    slices = indicator.values()\n",
    "    \n",
    "    def make_autopct(values):\n",
    "        def my_autopct(pct):\n",
    "            total = sum(values)\n",
    "            val = int(round(pct*total/100.0))\n",
    "            return '{p:.2f}%  ({v:d})'.format(p=pct,v=val)\n",
    "        return my_autopct\n",
    "    \n",
    "    # plotting the pie chart\n",
    "    plt.pie(slices, labels = activities,\n",
    "            startangle=90, shadow = True,\n",
    "            radius = 1.2, autopct=make_autopct(slices))\n",
    "    # plotting legend\n",
    "    plt.legend()\n",
    "    # showing the plot\n",
    "    plt.show()"
   ]
  },
  {
   "cell_type": "markdown",
   "id": "affected-custody",
   "metadata": {},
   "source": [
    "# <span style=\"color:brown; font-family:times; font-size:1.3em;\">Résultats</span>"
   ]
  },
  {
   "cell_type": "code",
   "execution_count": 5,
   "id": "interracial-generation",
   "metadata": {},
   "outputs": [],
   "source": [
    "#to increase data limit : jupyter notebook --NotebookApp.iopub_data_rate_limit=10000000000\n",
    "\n",
    "#load de data from the csv files\n",
    "df_tr = pd.read_csv ('csv_dump/transition.csv')\n",
    "\n",
    "#group the data per user\n",
    "userData_tr = LoadPerUserData(df_tr,1)\n",
    "# print(str(userData_tr[\"mmay\"]))"
   ]
  },
  {
   "cell_type": "code",
   "execution_count": 6,
   "id": "assisted-adult",
   "metadata": {},
   "outputs": [
    {
     "data": {
      "image/png": "[encoded data removed]",
      "text/plain": [
       "<Figure size 432x288 with 1 Axes>"
      ]
     },
     "metadata": {},
     "output_type": "display_data"
    },
    {
     "name": "stderr",
     "output_type": "stream",
     "text": [
      "<ipython-input-4-71446e3b89b0>:20: MatplotlibDeprecationWarning: normalize=None does not normalize if the sum is less than 1 but this behavior is deprecated since 3.3 until two minor releases later. After the deprecation period the default value will be normalize=True. To prevent normalization pass normalize=False \n",
      "  plt.pie(slices, labels = activities,\n"
     ]
    },
    {
     "data": {
      "image/png": "[encoded data removed]",
      "text/plain": [
       "<Figure size 432x288 with 1 Axes>"
      ]
     },
     "metadata": {},
     "output_type": "display_data"
    }
   ],
   "source": [
    "usersIndicators = GenerateUsersIndicators(userData_tr)\n",
    "#print(usersIndicators)\n",
    "\n",
    "displayIndicator(usersIndicators,'Reactivity','tdelille')\n",
    "displayIndicator(usersIndicators,'Motivation','tdelille')"
   ]
  },
  {
   "cell_type": "markdown",
   "id": "alike-practice",
   "metadata": {},
   "source": [
    "### <span style=\"color:green; font-family:Georgia; font-size:1.5em;\">END</span>"
   ]
  },
  {
   "cell_type": "code",
   "execution_count": 7,
   "id": "imposed-detector",
   "metadata": {},
   "outputs": [],
   "source": [
    "#Eliot Lepoittevin\n",
    "#Benjamin Riviere"
   ]
  }
 ],
 "metadata": {
  "kernelspec": {
   "display_name": "Python 3",
   "language": "python",
   "name": "python3"
  },
  "language_info": {
   "codemirror_mode": {
    "name": "ipython",
    "version": 3
   },
   "file_extension": ".py",
   "mimetype": "text/x-python",
   "name": "python",
   "nbconvert_exporter": "python",
   "pygments_lexer": "ipython3",
   "version": "3.8.5"
  }
 },
 "nbformat": 4,
 "nbformat_minor": 5
}
