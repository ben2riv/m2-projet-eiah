{
 "cells": [
  {
   "cell_type": "markdown",
   "id": "94d24fc3",
   "metadata": {},
   "source": [
    "#  <span style=\"text-align=center; color:DarkMagenta; font-family:Georgia; font-size:1.2em;\"> **_M2 - TP EIAH - MAY_** </span>"
   ]
  },
  {
   "cell_type": "markdown",
   "id": "2ec5fefc",
   "metadata": {},
   "source": [
    "Eliot Lepoittevin & Benjamin Riviere"
   ]
  },
  {
   "cell_type": "markdown",
   "id": "0cb57ac8",
   "metadata": {},
   "source": [
    "# <span style=\"color:brown; font-family:times; font-size:1.3em;\">Code</span>"
   ]
  },
  {
   "cell_type": "code",
   "execution_count": 1,
   "id": "7ce2279b",
   "metadata": {},
   "outputs": [
    {
     "name": "stderr",
     "output_type": "stream",
     "text": [
      "IOPub data rate exceeded.\n",
      "The notebook server will temporarily stop sending output\n",
      "to the client in order to avoid crashing it.\n",
      "To change this limit, set the config variable\n",
      "`--NotebookApp.iopub_data_rate_limit`.\n",
      "\n",
      "Current values:\n",
      "NotebookApp.iopub_data_rate_limit=1000000.0 (bytes/sec)\n",
      "NotebookApp.rate_limit_window=3.0 (secs)\n",
      "\n"
     ]
    }
   ],
   "source": [
    "import pandas as pd\n",
    "import numpy as np\n",
    "\n",
    "#load de data from the csv files\n",
    "df_tr = pd.read_csv ('csv_dump/transition.csv')\n",
    "df_uf = pd.read_csv ('csv_dump/userfiles.csv')\n",
    "\n",
    "\n",
    "def LoadPerUserData(dataframe,userNamePos):\n",
    "    perUser = []\n",
    "    data = dataframe.values\n",
    "    \n",
    "    for i in range(len(data)):\n",
    "        username = data[i][userNamePos]\n",
    "        found = False\n",
    "        for userData in perUser:\n",
    "            if(userData[0] == username):\n",
    "                userData[1].append(data[i])\n",
    "                found = True\n",
    "        if(found==False):\n",
    "            perUser.append((username,[data[i]]))\n",
    "    return perUser\n",
    "\n",
    "\n",
    "#group the data per user\n",
    "perUser_tr = LoadPerUserData(df_tr,1)\n",
    "perUser_uf = LoadPerUserData(df_uf,1)\n",
    "\n",
    "\n",
    "print(str(perUser_tr))"
   ]
  },
  {
   "cell_type": "code",
   "execution_count": 2,
   "id": "465bbceb",
   "metadata": {},
   "outputs": [],
   "source": [
    "def motivation():\n",
    "    return"
   ]
  },
  {
   "cell_type": "code",
   "execution_count": 3,
   "id": "c2d9bf40",
   "metadata": {},
   "outputs": [],
   "source": [
    "def reactivité():\n",
    "    return"
   ]
  },
  {
   "cell_type": "code",
   "execution_count": null,
   "id": "4db37b2c",
   "metadata": {},
   "outputs": [],
   "source": []
  },
  {
   "cell_type": "code",
   "execution_count": null,
   "id": "16b55d28",
   "metadata": {},
   "outputs": [],
   "source": [
    "\n",
    "\n"
   ]
  },
  {
   "cell_type": "code",
   "execution_count": null,
   "id": "8790e94f",
   "metadata": {},
   "outputs": [],
   "source": []
  },
  {
   "cell_type": "code",
   "execution_count": null,
   "id": "2b1e9492",
   "metadata": {},
   "outputs": [],
   "source": []
  },
  {
   "cell_type": "markdown",
   "id": "3a36a654",
   "metadata": {},
   "source": [
    "# <span style=\"color:brown; font-family:times; font-size:1.3em;\">Résultats</span>"
   ]
  },
  {
   "cell_type": "code",
   "execution_count": null,
   "id": "83b29688",
   "metadata": {},
   "outputs": [],
   "source": []
  },
  {
   "cell_type": "markdown",
   "id": "c9e58e69",
   "metadata": {},
   "source": [
    "### <span style=\"color:green; font-family:Georgia; font-size:1.5em;\">END</span>"
   ]
  },
  {
   "cell_type": "code",
   "execution_count": 4,
   "id": "37257837",
   "metadata": {},
   "outputs": [],
   "source": [
    "#Eliot Lepoittevin\n",
    "#Benjamin Riviere"
   ]
  }
 ],
 "metadata": {
  "kernelspec": {
   "display_name": "Python 3",
   "language": "python",
   "name": "python3"
  },
  "language_info": {
   "codemirror_mode": {
    "name": "ipython",
    "version": 3
   },
   "file_extension": ".py",
   "mimetype": "text/x-python",
   "name": "python",
   "nbconvert_exporter": "python",
   "pygments_lexer": "ipython3",
   "version": "3.8.10"
  }
 },
 "nbformat": 4,
 "nbformat_minor": 5
}
