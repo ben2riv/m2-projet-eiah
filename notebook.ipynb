{
 "cells": [
  {
   "cell_type": "markdown",
   "id": "continuous-spokesman",
   "metadata": {},
   "source": [
    "#  <span style=\"text-align=center; color:DarkMagenta; font-family:Georgia; font-size:1.2em;\"> **_M2 - TP EIAH - Indicateurs_** </span>"
   ]
  },
  {
   "cell_type": "markdown",
   "id": "sophisticated-thomson",
   "metadata": {},
   "source": [
    "Eliot Lepoittevin & Benjamin Riviere - Groupe 2"
   ]
  },
  {
   "cell_type": "markdown",
   "id": "working-balloon",
   "metadata": {},
   "source": [
    "Les indicateurs présentés dans ce rapport sont à destination d'un professeur qui souhaite mesurer la performance d'un élève.\n",
    "\n",
    "Les indicateurs choisis sont :\n",
    "- La réactivité (mesure du temps de réaction d'un élève sur le système)\n",
    "- La motivation (calcul de la \"motivation\" d'un élève)\n",
    "\n",
    "Ici nos indicateurs sont affichés par utilisateur et sont donc à comparer entre plusieurs élèves.\\\n",
    "*nécessite le fichier 'transition.csv' dans le même dossier."
   ]
  },
  {
   "cell_type": "markdown",
   "id": "adult-mixer",
   "metadata": {},
   "source": [
    "# <span style=\"color:brown; font-family:times; font-size:1.3em;\">Code</span>"
   ]
  },
  {
   "cell_type": "code",
   "execution_count": 1,
   "id": "vertical-italy",
   "metadata": {},
   "outputs": [],
   "source": [
    "import pandas as pd\n",
    "import numpy as np\n",
    "import matplotlib.pyplot as plt\n",
    "import math\n",
    "import datetime"
   ]
  },
  {
   "cell_type": "code",
   "execution_count": 2,
   "id": "bright-transcript",
   "metadata": {},
   "outputs": [],
   "source": [
    "# Collecte les données par utilisateur, demande un dataframe de données et la position du nom de l'utilisateur\n",
    "def LoadPerUserData(dataframe, userNamePos):\n",
    "    userData = {}\n",
    "    data = dataframe.values\n",
    "    \n",
    "    for i in range(len(data)):\n",
    "        username = data[i][userNamePos]\n",
    "        \n",
    "        if(userData.get(username) == None):\n",
    "            userData[username] = []\n",
    "        userData[username].append(data[i])\n",
    "\n",
    "    return userData"
   ]
  },
  {
   "cell_type": "code",
   "execution_count": 3,
   "id": "ecological-boston",
   "metadata": {},
   "outputs": [],
   "source": [
    "# Créer un indicateur pour un utilisateur (dictionnaire de différentes données utiles ou données calculées)\n",
    "\n",
    "# Indicateur sur la réactivité\n",
    "def GetReactivityIndicator(userData):\n",
    "    totalAction=0\n",
    "    totalDelay=0\n",
    "\n",
    "    totalAnswerMessageTime = 0\n",
    "    totalAnswerMessage = 0\n",
    "    \n",
    "    totalOpeningNewContentTime=0\n",
    "    totalOpeningNewContent=0\n",
    "    \n",
    "    totalPostNewMessageTime=0\n",
    "    totalPostNewMessage=0\n",
    "    \n",
    "    for d in userData:\n",
    "        if(pd.isnull(d[6])==False):\n",
    "            time = d[6].split(':')\n",
    "            delay=float(time[0])*3600+float(time[1])*60+float(time[2])\n",
    "            totalDelay+=delay\n",
    "            totalAction+=1\n",
    "            if(d[2] == \"Répondre à un message\"):\n",
    "                totalAnswerMessageTime+=delay\n",
    "                totalAnswerMessage+=1\n",
    "            if(d[2] == \"Afficher le contenu d'un message\"):\n",
    "                totalOpeningNewContentTime+= delay\n",
    "                totalOpeningNewContent+=1\n",
    "            if(d[2] == \"Poster un nouveau message\"):\n",
    "                totalPostNewMessageTime+= delay\n",
    "                totalPostNewMessage+=1\n",
    "                \n",
    "    indicator = {}\n",
    "    \n",
    "    if(totalAction!=0):\n",
    "        indicator['AverageDelayTime(in sec)']=totalDelay/totalAction\n",
    "    if(totalAnswerMessage!=0):\n",
    "        indicator['AverageDelayAnswerMessage(in sec)']=totalAnswerMessageTime/totalAnswerMessage\n",
    "    if(totalOpeningNewContent!=0):    \n",
    "        indicator['AverageDelayOpeningNewContent(in sec)']=totalOpeningNewContentTime/totalOpeningNewContent\n",
    "    if(totalPostNewMessage!=0):    \n",
    "        indicator['AverageDelayPostNewMessage(in sec)']=totalPostNewMessageTime/totalPostNewMessage\n",
    "    \n",
    "    return indicator\n",
    "\n",
    "\n",
    "# Indicateur sur la motivation\n",
    "def GetMotivationIndicator(userData):\n",
    "    \n",
    "    nb_connexions = 0 \n",
    "    active_actions = 0\n",
    "    passive_actions = 0        \n",
    "    \n",
    "    for i in range(0, len(userData)):\n",
    "            \n",
    "        if userData[i][2] == \"Connexion\": nb_connexions+=1\n",
    "        elif \"Répondre\" in userData[i][2] : active_actions+=1\n",
    "        elif \"Poster\" in userData[i][2] : active_actions+=1\n",
    "        else : passive_actions+=1\n",
    "            \n",
    "    indicator = {}\n",
    "    indicator['nombre_action_passive'] = passive_actions\n",
    "    indicator['nombre_action_active'] = active_actions\n",
    "    indicator['nombre_connexion'] = nb_connexions    \n",
    "    \n",
    "    return indicator"
   ]
  },
  {
   "cell_type": "code",
   "execution_count": 4,
   "id": "quantitative-essex",
   "metadata": {},
   "outputs": [],
   "source": [
    "# Genere les indicateurs pour chaque utilisateur\n",
    "# Un indicateur peut être facilement ajouté en ajoutant une nouvelle clé d'indicateur avec une fonction associée\n",
    "def GenerateUsersIndicators(userData_tr):\n",
    "    usersIndicators = {}\n",
    "\n",
    "    for user in userData_tr:\n",
    "        data = userData_tr[user]\n",
    "        \n",
    "        indicators = {}\n",
    "        \n",
    "        # Indicateurs à generer\n",
    "        indicators['Reactivity']=GetReactivityIndicator(data)\n",
    "        indicators['Motivation']=GetMotivationIndicator(data)\n",
    "        \n",
    "        usersIndicators[user]=indicators\n",
    "        \n",
    "    return usersIndicators"
   ]
  },
  {
   "cell_type": "code",
   "execution_count": 5,
   "id": "humanitarian-arrest",
   "metadata": {},
   "outputs": [],
   "source": [
    "# Affiche un indicateur pour un utilisateur \n",
    "def displayIndicator(usersIndicators, indicatorName, userName):\n",
    "    indicator = usersIndicators[userName][indicatorName]\n",
    "    \n",
    "    plt.title(indicatorName + \" pour l'utilisateur : \"+userName)\n",
    "    activities = indicator.keys()\n",
    "    slices = indicator.values()\n",
    "    \n",
    "    def make_autopct(values):\n",
    "        def my_autopct(pct):\n",
    "            total = sum(values)\n",
    "            val = int(round(pct*total/100.0))\n",
    "            return '{p:.2f}%  ({v:d})'.format(p=pct,v=val)\n",
    "        return my_autopct\n",
    "    \n",
    "    # Affichage en camembert\n",
    "    pie = plt.pie(slices, startangle=90, shadow = True,\n",
    "            radius = 1.2, autopct=make_autopct(slices))\n",
    "    \n",
    "    plt.legend(pie[0],labels = activities, bbox_to_anchor=(1,1), fontsize=10)\n",
    "    plt.subplots_adjust(left=0.0, bottom=0.1, right=0.45)\n",
    "    plt.show()"
   ]
  },
  {
   "cell_type": "markdown",
   "id": "affected-custody",
   "metadata": {},
   "source": [
    "# <span style=\"color:brown; font-family:times; font-size:1.3em;\">Résultats</span>"
   ]
  },
  {
   "cell_type": "code",
   "execution_count": 6,
   "id": "assisted-adult",
   "metadata": {
    "scrolled": false
   },
   "outputs": [],
   "source": [
    "# To increase data limit : jupyter notebook --NotebookApp.iopub_data_rate_limit=10000000000\n",
    "\n",
    "# Chargement des données depuis un fichier csv (ici table transition)\n",
    "df_tr = pd.read_csv ('./transition.csv')\n",
    "\n",
    "# Groupe les données par utilisateur \n",
    "userData_tr = LoadPerUserData(df_tr,1)\n",
    "\n",
    "usersIndicators = GenerateUsersIndicators(userData_tr)\n",
    "usernames = list(userData_tr.keys())"
   ]
  },
  {
   "cell_type": "markdown",
   "id": "southern-wilderness",
   "metadata": {},
   "source": [
    "Ce programme demande un nom valide d'utilisateur pour afficher les indicateurs.\n",
    "On peut ensuite entrer un 2eme nom d'utilisateur pour afficher ses indicateurs et les comparer au 1er."
   ]
  },
  {
   "cell_type": "code",
   "execution_count": null,
   "id": "behind-anger",
   "metadata": {},
   "outputs": [
    {
     "name": "stdout",
     "output_type": "stream",
     "text": [
      "Liste d'utilisateurs :  ['tdelille', 'mmay', 'ddaniaupotter', 'gachort', 'sebastien', 'admin', 'madeth', 'cdejean', 'fdarriet', 'mwollenburger', 'tsoubrie', 'insauser1', 'mgodwod', 'jvasseur', 'mdanet', 'psalam', 'guest', 'cevanen', 'cfroger', 'adebeuckelaere', 'shernu', 'xjmechain', 'ntricoit']\n",
      "Enter valid username: tdelille\n"
     ]
    },
    {
     "name": "stderr",
     "output_type": "stream",
     "text": [
      "<ipython-input-5-ae03fd52bd6c>:20: UserWarning: You have mixed positional and keyword arguments, some input may be discarded.\n",
      "  plt.legend(pie[0],labels = activities, bbox_to_anchor=(1,1), fontsize=10)\n"
     ]
    },
    {
     "data": {
      "image/png": "[encoded data removed]",
      "text/plain": [
       "<Figure size 432x288 with 1 Axes>"
      ]
     },
     "metadata": {},
     "output_type": "display_data"
    },
    {
     "data": {
      "image/png": "[encoded data removed]",
      "text/plain": [
       "<Figure size 432x288 with 1 Axes>"
      ]
     },
     "metadata": {},
     "output_type": "display_data"
    }
   ],
   "source": [
    "print(\"Liste d'utilisateurs : \", usernames)\n",
    "\n",
    "# Boucle du programme d'affichage\n",
    "while(True):\n",
    "    name = \"\"\n",
    "    while(name not in usernames):\n",
    "        name = input(\"Enter valid username: \") \n",
    "    displayIndicator(usersIndicators,'Reactivity',name)\n",
    "    displayIndicator(usersIndicators,'Motivation',name)"
   ]
  },
  {
   "cell_type": "markdown",
   "id": "alike-practice",
   "metadata": {},
   "source": [
    "### <span style=\"color:green; font-family:Georgia; font-size:1.5em;\">END</span>"
   ]
  },
  {
   "cell_type": "code",
   "execution_count": null,
   "id": "imposed-detector",
   "metadata": {},
   "outputs": [],
   "source": [
    "#Eliot Lepoittevin\n",
    "#Benjamin Riviere"
   ]
  }
 ],
 "metadata": {
  "kernelspec": {
   "display_name": "Python 3",
   "language": "python",
   "name": "python3"
  },
  "language_info": {
   "codemirror_mode": {
    "name": "ipython",
    "version": 3
   },
   "file_extension": ".py",
   "mimetype": "text/x-python",
   "name": "python",
   "nbconvert_exporter": "python",
   "pygments_lexer": "ipython3",
   "version": "3.8.5"
  }
 },
 "nbformat": 4,
 "nbformat_minor": 5
}
