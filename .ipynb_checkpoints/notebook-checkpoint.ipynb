{
 "cells": [
  {
   "cell_type": "code",
   "execution_count": 9,
   "id": "5906c77e",
   "metadata": {},
   "outputs": [
    {
     "name": "stdout",
     "output_type": "stream",
     "text": [
      "{'tdelille': [array([1, 'tdelille', 'Connexion', 'login=tdelille', '2009-02-12',\n",
      "       '11:33:55', nan, 0, nan], dtype=object)]} ||| 0\n",
      "{'tdelille': None} ||| 1\n",
      "{'tdelille': None, 'mmay': [array([166, 'mmay', 'Répondre à un message',\n",
      "       'IDForum=7,IDMsg=1184,IDParent=1183', '2009-02-13', '03:40:13',\n",
      "       '00:09:46', 0, nan], dtype=object)]} ||| 2\n",
      "{'tdelille': None, 'mmay': None} ||| 3\n"
     ]
    },
    {
     "ename": "AttributeError",
     "evalue": "'NoneType' object has no attribute 'append'",
     "output_type": "error",
     "traceback": [
      "\u001b[0;31m---------------------------------------------------------------------------\u001b[0m",
      "\u001b[0;31mAttributeError\u001b[0m                            Traceback (most recent call last)",
      "\u001b[0;32m<ipython-input-9-4d553547893a>\u001b[0m in \u001b[0;36m<module>\u001b[0;34m\u001b[0m\n\u001b[1;32m     23\u001b[0m     \u001b[0musername\u001b[0m \u001b[0;34m=\u001b[0m \u001b[0mdata_tr\u001b[0m\u001b[0;34m[\u001b[0m\u001b[0mi\u001b[0m\u001b[0;34m]\u001b[0m\u001b[0;34m[\u001b[0m\u001b[0mdata_tr_userNamePos\u001b[0m\u001b[0;34m]\u001b[0m\u001b[0;34m\u001b[0m\u001b[0;34m\u001b[0m\u001b[0m\n\u001b[1;32m     24\u001b[0m     \u001b[0;32mif\u001b[0m\u001b[0;34m(\u001b[0m\u001b[0musername\u001b[0m \u001b[0;32min\u001b[0m \u001b[0mperUser_tr\u001b[0m\u001b[0;34m.\u001b[0m\u001b[0mkeys\u001b[0m\u001b[0;34m(\u001b[0m\u001b[0;34m)\u001b[0m\u001b[0;34m)\u001b[0m\u001b[0;34m:\u001b[0m\u001b[0;34m\u001b[0m\u001b[0;34m\u001b[0m\u001b[0m\n\u001b[0;32m---> 25\u001b[0;31m         \u001b[0mperUser_tr\u001b[0m\u001b[0;34m[\u001b[0m\u001b[0musername\u001b[0m\u001b[0;34m]\u001b[0m \u001b[0;34m=\u001b[0m \u001b[0mperUser_tr\u001b[0m\u001b[0;34m[\u001b[0m\u001b[0musername\u001b[0m\u001b[0;34m]\u001b[0m\u001b[0;34m.\u001b[0m\u001b[0mappend\u001b[0m\u001b[0;34m(\u001b[0m\u001b[0mdata_tr\u001b[0m\u001b[0;34m[\u001b[0m\u001b[0mi\u001b[0m\u001b[0;34m]\u001b[0m\u001b[0;34m)\u001b[0m\u001b[0;34m\u001b[0m\u001b[0;34m\u001b[0m\u001b[0m\n\u001b[0m\u001b[1;32m     26\u001b[0m     \u001b[0;32melse\u001b[0m\u001b[0;34m:\u001b[0m\u001b[0;34m\u001b[0m\u001b[0;34m\u001b[0m\u001b[0m\n\u001b[1;32m     27\u001b[0m         \u001b[0mperUser_tr\u001b[0m\u001b[0;34m.\u001b[0m\u001b[0mupdate\u001b[0m\u001b[0;34m(\u001b[0m\u001b[0;34m{\u001b[0m\u001b[0musername\u001b[0m\u001b[0;34m:\u001b[0m\u001b[0;34m[\u001b[0m\u001b[0mdata_tr\u001b[0m\u001b[0;34m[\u001b[0m\u001b[0mi\u001b[0m\u001b[0;34m]\u001b[0m\u001b[0;34m]\u001b[0m\u001b[0;34m}\u001b[0m\u001b[0;34m)\u001b[0m\u001b[0;34m\u001b[0m\u001b[0;34m\u001b[0m\u001b[0m\n",
      "\u001b[0;31mAttributeError\u001b[0m: 'NoneType' object has no attribute 'append'"
     ]
    }
   ],
   "source": [
    "import pandas as pd\n",
    "import numpy as np\n",
    "\n",
    "#load de data from the csv files\n",
    "df_tr = pd.read_csv ('csv_dump/transition.csv')\n",
    "df_uf = pd.read_csv ('csv_dump/userfiles.csv')\n",
    "\n",
    "#print(df_tr.values[0])\n",
    "#print(df_uf)\n",
    "\n",
    "\n",
    "#group the data per user\n",
    "data_tr = df_tr.values\n",
    "data_tr_userNamePos = 1\n",
    "\n",
    "data_uf = df_uf.values\n",
    "data_uf_userNamePos = 1\n",
    "\n",
    "perUser_tr = {}\n",
    "perUser_uf = {}\n",
    "\n",
    "for i in range(len(data_tr)):\n",
    "    username = data_tr[i][data_tr_userNamePos]\n",
    "    if(username in perUser_tr.keys()):\n",
    "        perUser_tr[username] = perUser_tr[username].append(data_tr[i])\n",
    "    else:\n",
    "        perUser_tr[username] = [data_tr[i]]\n",
    "        \n",
    "    print(str(perUser_tr) + \" ||| \"+str(i))\n",
    "\n",
    "\n"
   ]
  },
  {
   "cell_type": "code",
   "execution_count": null,
   "id": "16b55d28",
   "metadata": {},
   "outputs": [],
   "source": [
    "\n",
    "\n"
   ]
  }
 ],
 "metadata": {
  "kernelspec": {
   "display_name": "Python 3",
   "language": "python",
   "name": "python3"
  },
  "language_info": {
   "codemirror_mode": {
    "name": "ipython",
    "version": 3
   },
   "file_extension": ".py",
   "mimetype": "text/x-python",
   "name": "python",
   "nbconvert_exporter": "python",
   "pygments_lexer": "ipython3",
   "version": "3.8.10"
  }
 },
 "nbformat": 4,
 "nbformat_minor": 5
}
